{
 "cells": [
  {
   "cell_type": "markdown",
   "metadata": {},
   "source": [
    "### Training the Tumor Patch Detector\n",
    "\n",
    "The `train_tumor_patch_detector` function is responsible for initiating the training process of a machine learning model aimed at detecting tumor areas within patches of Whole Slide Images (WSIs) of angiosarcoma. This function is a part of the APEDIA project and facilitates the training of a deep learning model that can accurately identify regions of interest (tumor patches) based on PD-L1 expression and other cellular characteristics.\n",
    "\n",
    "#### Parameters\n",
    "- **data_df_path** (*str*): The file path to the DataFrame containing the dataset information. This DataFrame needs to include paths to image data and corresponding masks. Additionally, it must contain a cv_split column specifying the cross-validation split for each data point, where each row is assigned an integer (e.g., 0 to 4) indicating its split group. The inclusion of a target label column is optional, as this label solely influences the validation process.\n",
    "- **output_dir** (*str*): The directory path where the training outputs, including the trained model weights and training logs, will be saved.\n",
    "- **column_path_data** (*str*, default: 'pdl1'): The column name in the DataFrame that contains paths to the image data.\n",
    "- **column_path_mask** (*str*, default: 'mask'): The column name in the DataFrame that contains paths to the corresponding masks.\n",
    "- **column_scalar_label** (*str*, default: 'dummy'): The column name for scalar labels. Use 'dummy' if there are no scalar labels and dummy targets are to be used.\n",
    "- **lr** (*float*, default: 0.001): Learning rate for the training process.\n",
    "- **epochs** (*int*, default: 50): The number of training epochs.\n",
    "- **bs** (*int*, default: 8): Batch size for training.\n",
    "- **aug_mult** (*float*, default: 1): Multiplier for data augmentation; adjusts the intensity and variety of augmentations applied.\n",
    "- **label_smoothing** (*float*, default: 0.0): The amount of label smoothing to apply, aiding in regularizing the model.\n",
    "- **encoder_name** (*str*, default: 'timm-efficientnet-b5'): The name of the model encoder to be used.\n",
    "- **cv_split** (*int*, default: 0): Index of the cross-validation split to use for training and validation data separation.\n",
    "- **num_workers** (*int*, default: 4): The number of worker processes to use for data loading.\n",
    "- **do_cosine_annealing** (*bool*, default: False): Flag to determine whether to apply cosine annealing to the learning rate schedule.\n",
    "\n",
    "#### Usage\n",
    "To train the tumor patch detector, define the parameters in `train_tumor_patch_detector_params` dictionary as shown below, and then call the `train_tumor_patch_detector` function with this dictionary. Ensure that the mandatory parameters `data_df_path` and `output_dir` are set to valid paths before running the training.\n",
    "\n",
    "#### CLI\n",
    "APEDIA train tumor patch detector can also be called via e.g.:\n",
    "```\n",
    "apedia train_tumor_patch_detector --data_df_path \"/home/fabian/projects/phd/APEDIA/data/example_patch_df.feather\" --output_dir \"/home/fabian/projects/phd/APEDIA/data/outputs\" --epochs 1 --column_path_data \"path_patch_pdl1\" --column_path_mask \"path_patch_mask\" --column_scalar_label \"tumors\"\n",
    "```"
   ]
  },
  {
   "cell_type": "markdown",
   "metadata": {},
   "source": [
    "## Import the `train_tumor_patch_detector` function"
   ]
  },
  {
   "cell_type": "code",
   "execution_count": null,
   "metadata": {},
   "outputs": [],
   "source": [
    "from apedia.train_tumor_patch_detector import train_tumor_patch_detector"
   ]
  },
  {
   "cell_type": "markdown",
   "metadata": {},
   "source": [
    "## Set the parameters"
   ]
  },
  {
   "cell_type": "code",
   "execution_count": null,
   "metadata": {},
   "outputs": [],
   "source": [
    "# Train the tumor patch detector\n",
    "# Set the parameters\n",
    "\n",
    "train_tumor_patch_detector_params = {\n",
    "    \"data_df_path\": \"/path/to/your/dataset/example_patch_df.feather\",\n",
    "    \"output_dir\": \"/path/to/your/output/directory\",\n",
    "    # Other parameters can be adjusted as needed\n",
    "    \"column_path_data\": 'pdl1',\n",
    "    \"column_path_mask\": 'mask',\n",
    "    \"column_scalar_label\": 'dummy',\n",
    "    \"lr\": 0.001,\n",
    "    \"epochs\": 50,\n",
    "    \"bs\": 8,\n",
    "    \"aug_mult\": 1,\n",
    "    \"label_smoothing\": 0.0,\n",
    "    \"encoder_name\": \"timm-efficientnet-b5\",\n",
    "    \"cv_split\": 0,\n",
    "    \"num_workers\": 4,\n",
    "    \"do_cosine_annealing\": False,\n",
    "}"
   ]
  },
  {
   "cell_type": "markdown",
   "metadata": {},
   "source": [
    "## Run the training"
   ]
  },
  {
   "cell_type": "code",
   "execution_count": null,
   "metadata": {},
   "outputs": [],
   "source": [
    "train_tumor_patch_detector_params['data_df_path'] = '/home/fabian/projects/phd/APEDIA/data/example_patch_df.feather'\n",
    "train_tumor_patch_detector_params['output_dir'] = '/home/fabian/projects/phd/APEDIA/data/outputs'\n",
    "train_tumor_patch_detector_params['epochs'] = 1\n",
    "train_tumor_patch_detector_params['column_path_data'] = 'path_patch_pdl1'\n",
    "train_tumor_patch_detector_params['column_path_mask'] = 'path_patch_mask'\n",
    "train_tumor_patch_detector_params['column_scalar_label'] = 'tumors'"
   ]
  },
  {
   "cell_type": "code",
   "execution_count": null,
   "metadata": {},
   "outputs": [],
   "source": [
    "train_tumor_patch_detector(train_tumor_patch_detector_params)"
   ]
  }
 ],
 "metadata": {
  "kernelspec": {
   "display_name": "apedia",
   "language": "python",
   "name": "python3"
  },
  "language_info": {
   "codemirror_mode": {
    "name": "ipython",
    "version": 3
   },
   "file_extension": ".py",
   "mimetype": "text/x-python",
   "name": "python",
   "nbconvert_exporter": "python",
   "pygments_lexer": "ipython3",
   "version": "3.8.18"
  }
 },
 "nbformat": 4,
 "nbformat_minor": 2
}
