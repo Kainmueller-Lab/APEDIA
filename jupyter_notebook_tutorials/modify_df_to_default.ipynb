{
 "cells": [
  {
   "cell_type": "code",
   "execution_count": 1,
   "metadata": {},
   "outputs": [],
   "source": [
    "from pathlib import Path\n",
    "import pandas as pd"
   ]
  },
  {
   "cell_type": "code",
   "execution_count": 19,
   "metadata": {},
   "outputs": [],
   "source": [
    "path_code_folder = Path('/home/fabian/projects/phd/angiosarkom_pdl1_prediction')\n",
    "df_path = str(path_code_folder / 'data' / 'angiosarkom_patches_pdl1_mask_ANGIOSARCOM_for_real_new_annotations_all_pdl1_26sep23.feather')"
   ]
  },
  {
   "cell_type": "code",
   "execution_count": null,
   "metadata": {},
   "outputs": [],
   "source": [
    "path_example_patch_df = '/home/fabian/projects/phd/APEDIA/data/example_patch_df.feather'\n",
    "path_outputs = '/home/fabian/projects/phd/APEDIA/data/outputs'"
   ]
  },
  {
   "cell_type": "code",
   "execution_count": 20,
   "metadata": {},
   "outputs": [],
   "source": [
    "df = pd.read_feather(df_path)"
   ]
  },
  {
   "cell_type": "code",
   "execution_count": 21,
   "metadata": {},
   "outputs": [],
   "source": [
    "df = df[df.verified_angiosarcoma.eq(True)]"
   ]
  },
  {
   "cell_type": "code",
   "execution_count": 23,
   "metadata": {},
   "outputs": [],
   "source": [
    "df_reduced = df[['path_patch_pdl1', 'path_patch_mask', 'cv_split', 'tumors']].reset_index()"
   ]
  },
  {
   "cell_type": "code",
   "execution_count": 24,
   "metadata": {},
   "outputs": [],
   "source": [
    "# df_reduced.to_feather('/home/fabian/projects/phd/APEDIA/data/example_patch_df.feather')"
   ]
  },
  {
   "cell_type": "code",
   "execution_count": 15,
   "metadata": {},
   "outputs": [
    {
     "data": {
      "text/html": [
       "<div>\n",
       "<style scoped>\n",
       "    .dataframe tbody tr th:only-of-type {\n",
       "        vertical-align: middle;\n",
       "    }\n",
       "\n",
       "    .dataframe tbody tr th {\n",
       "        vertical-align: top;\n",
       "    }\n",
       "\n",
       "    .dataframe thead th {\n",
       "        text-align: right;\n",
       "    }\n",
       "</style>\n",
       "<table border=\"1\" class=\"dataframe\">\n",
       "  <thead>\n",
       "    <tr style=\"text-align: right;\">\n",
       "      <th></th>\n",
       "      <th>index</th>\n",
       "      <th>path_patch_pdl1</th>\n",
       "      <th>path_patch_mask</th>\n",
       "      <th>cv_split</th>\n",
       "    </tr>\n",
       "  </thead>\n",
       "  <tbody>\n",
       "    <tr>\n",
       "      <th>0</th>\n",
       "      <td>0</td>\n",
       "      <td>/home/fabian/projects/phd/ssd_data/angiosarkom...</td>\n",
       "      <td>/home/fabian/projects/phd/ssd_data/angiosarkom...</td>\n",
       "      <td>1</td>\n",
       "    </tr>\n",
       "    <tr>\n",
       "      <th>1</th>\n",
       "      <td>1</td>\n",
       "      <td>/home/fabian/projects/phd/ssd_data/angiosarkom...</td>\n",
       "      <td>/home/fabian/projects/phd/ssd_data/angiosarkom...</td>\n",
       "      <td>1</td>\n",
       "    </tr>\n",
       "    <tr>\n",
       "      <th>2</th>\n",
       "      <td>2</td>\n",
       "      <td>/home/fabian/projects/phd/ssd_data/angiosarkom...</td>\n",
       "      <td>/home/fabian/projects/phd/ssd_data/angiosarkom...</td>\n",
       "      <td>1</td>\n",
       "    </tr>\n",
       "    <tr>\n",
       "      <th>3</th>\n",
       "      <td>3</td>\n",
       "      <td>/home/fabian/projects/phd/ssd_data/angiosarkom...</td>\n",
       "      <td>/home/fabian/projects/phd/ssd_data/angiosarkom...</td>\n",
       "      <td>1</td>\n",
       "    </tr>\n",
       "    <tr>\n",
       "      <th>4</th>\n",
       "      <td>4</td>\n",
       "      <td>/home/fabian/projects/phd/ssd_data/angiosarkom...</td>\n",
       "      <td>/home/fabian/projects/phd/ssd_data/angiosarkom...</td>\n",
       "      <td>1</td>\n",
       "    </tr>\n",
       "    <tr>\n",
       "      <th>...</th>\n",
       "      <td>...</td>\n",
       "      <td>...</td>\n",
       "      <td>...</td>\n",
       "      <td>...</td>\n",
       "    </tr>\n",
       "    <tr>\n",
       "      <th>28911</th>\n",
       "      <td>34012</td>\n",
       "      <td>/home/fabian/projects/phd/ssd_data/angiosarkom...</td>\n",
       "      <td>/home/fabian/projects/phd/ssd_data/angiosarkom...</td>\n",
       "      <td>0</td>\n",
       "    </tr>\n",
       "    <tr>\n",
       "      <th>28912</th>\n",
       "      <td>34013</td>\n",
       "      <td>/home/fabian/projects/phd/ssd_data/angiosarkom...</td>\n",
       "      <td>/home/fabian/projects/phd/ssd_data/angiosarkom...</td>\n",
       "      <td>0</td>\n",
       "    </tr>\n",
       "    <tr>\n",
       "      <th>28913</th>\n",
       "      <td>34014</td>\n",
       "      <td>/home/fabian/projects/phd/ssd_data/angiosarkom...</td>\n",
       "      <td>/home/fabian/projects/phd/ssd_data/angiosarkom...</td>\n",
       "      <td>0</td>\n",
       "    </tr>\n",
       "    <tr>\n",
       "      <th>28914</th>\n",
       "      <td>34015</td>\n",
       "      <td>/home/fabian/projects/phd/ssd_data/angiosarkom...</td>\n",
       "      <td>/home/fabian/projects/phd/ssd_data/angiosarkom...</td>\n",
       "      <td>0</td>\n",
       "    </tr>\n",
       "    <tr>\n",
       "      <th>28915</th>\n",
       "      <td>34016</td>\n",
       "      <td>/home/fabian/projects/phd/ssd_data/angiosarkom...</td>\n",
       "      <td>/home/fabian/projects/phd/ssd_data/angiosarkom...</td>\n",
       "      <td>0</td>\n",
       "    </tr>\n",
       "  </tbody>\n",
       "</table>\n",
       "<p>28916 rows × 4 columns</p>\n",
       "</div>"
      ],
      "text/plain": [
       "       index                                    path_patch_pdl1  \\\n",
       "0          0  /home/fabian/projects/phd/ssd_data/angiosarkom...   \n",
       "1          1  /home/fabian/projects/phd/ssd_data/angiosarkom...   \n",
       "2          2  /home/fabian/projects/phd/ssd_data/angiosarkom...   \n",
       "3          3  /home/fabian/projects/phd/ssd_data/angiosarkom...   \n",
       "4          4  /home/fabian/projects/phd/ssd_data/angiosarkom...   \n",
       "...      ...                                                ...   \n",
       "28911  34012  /home/fabian/projects/phd/ssd_data/angiosarkom...   \n",
       "28912  34013  /home/fabian/projects/phd/ssd_data/angiosarkom...   \n",
       "28913  34014  /home/fabian/projects/phd/ssd_data/angiosarkom...   \n",
       "28914  34015  /home/fabian/projects/phd/ssd_data/angiosarkom...   \n",
       "28915  34016  /home/fabian/projects/phd/ssd_data/angiosarkom...   \n",
       "\n",
       "                                         path_patch_mask  cv_split  \n",
       "0      /home/fabian/projects/phd/ssd_data/angiosarkom...         1  \n",
       "1      /home/fabian/projects/phd/ssd_data/angiosarkom...         1  \n",
       "2      /home/fabian/projects/phd/ssd_data/angiosarkom...         1  \n",
       "3      /home/fabian/projects/phd/ssd_data/angiosarkom...         1  \n",
       "4      /home/fabian/projects/phd/ssd_data/angiosarkom...         1  \n",
       "...                                                  ...       ...  \n",
       "28911  /home/fabian/projects/phd/ssd_data/angiosarkom...         0  \n",
       "28912  /home/fabian/projects/phd/ssd_data/angiosarkom...         0  \n",
       "28913  /home/fabian/projects/phd/ssd_data/angiosarkom...         0  \n",
       "28914  /home/fabian/projects/phd/ssd_data/angiosarkom...         0  \n",
       "28915  /home/fabian/projects/phd/ssd_data/angiosarkom...         0  \n",
       "\n",
       "[28916 rows x 4 columns]"
      ]
     },
     "execution_count": 15,
     "metadata": {},
     "output_type": "execute_result"
    }
   ],
   "source": [
    "df_reduced"
   ]
  },
  {
   "cell_type": "code",
   "execution_count": 17,
   "metadata": {},
   "outputs": [
    {
     "data": {
      "text/plain": [
       "{'column_name_data': 'pdl1',\n",
       " 'column_name_mask': 'mask',\n",
       " 'lr': 0.001,\n",
       " 'epochs': 50,\n",
       " 'bs': 8,\n",
       " 'aug_mult': 1,\n",
       " 'label_smoothing': 0.0,\n",
       " 'encoder_name': 'timm-efficientnet-b5',\n",
       " 'cv_split': 0,\n",
       " 'num_workers': 4,\n",
       " 'do_cosine_annealing': False}"
      ]
     },
     "execution_count": 17,
     "metadata": {},
     "output_type": "execute_result"
    }
   ],
   "source": [
    "from apedia.utils.params import train_tumor_patch_detector_params\n",
    "train_tumor_patch_detector_params\n"
   ]
  },
  {
   "cell_type": "markdown",
   "metadata": {},
   "source": [
    "# Same for segmentation"
   ]
  },
  {
   "cell_type": "code",
   "execution_count": 13,
   "metadata": {},
   "outputs": [],
   "source": [
    "path_data_df = Path(\"/home/fabian/projects/phd/angiosarkom_pdl1_prediction/data/12oct23_hema_patch_if_more_matches_updated_roi_df_fixed_verified.feather\")\n",
    "df = pd.read_feather(path_data_df)"
   ]
  },
  {
   "cell_type": "code",
   "execution_count": 16,
   "metadata": {},
   "outputs": [
    {
     "data": {
      "text/plain": [
       "'/home/fabian/projects/phd/angiosarkom_pdl1_prediction/data/cell_segmentation/21sep23_cell_segmentation_analysis_hema_patch_if_more_matches_updated_roi_df/calculation/W103-22_PD-L1__2336.0_2080.0_pdl1_segmentation_channels.npy'"
      ]
     },
     "execution_count": 16,
     "metadata": {},
     "output_type": "execute_result"
    }
   ],
   "source": [
    "df['path_exact_one_match'].iloc[0]"
   ]
  },
  {
   "cell_type": "code",
   "execution_count": 4,
   "metadata": {},
   "outputs": [],
   "source": [
    "res_df = df[df.verified_angiosarcoma.eq(True)].reset_index()\n",
    "res_df['cv_split'] = res_df['cv']\n",
    "res_df = res_df[['path_seg_one_match', 'path_patch_png', 'path_exact_one_match', 'cv_split']].reset_index(drop=True)\n",
    "# res_df.to_feather(\"/home/fabian/projects/phd/APEDIA/data/example_df_segmentation.feather\")"
   ]
  },
  {
   "cell_type": "markdown",
   "metadata": {},
   "source": [
    "# Same for cell type data preprocessing"
   ]
  },
  {
   "cell_type": "code",
   "execution_count": 3,
   "metadata": {},
   "outputs": [],
   "source": [
    "path_df = Path('/home/fabian/projects/phd/angiosarkom_pdl1_prediction') / 'data' / \"pdl1_he_mask_patches_6mar23_tumor_non_tumor_cv_splits.feather\"\n",
    "df = pd.read_feather(path_df)"
   ]
  },
  {
   "cell_type": "code",
   "execution_count": 6,
   "metadata": {},
   "outputs": [
    {
     "data": {
      "text/plain": [
       "'/home/fabian/projects/phd/ssd_data/angiosarkom_patches_pdl1_he_mask_6mar2023/pdl1/W103-22_PD-L1__2752.0_1856.0_pdl1.png'"
      ]
     },
     "execution_count": 6,
     "metadata": {},
     "output_type": "execute_result"
    }
   ],
   "source": [
    "df.path_patch_pdl1.iloc[0]"
   ]
  },
  {
   "cell_type": "code",
   "execution_count": 7,
   "metadata": {},
   "outputs": [
    {
     "name": "stdout",
     "output_type": "stream",
     "text": [
      "/home/fabian/raid5/formerly_on_ssd_data/angiosarkom_patches_pdl1_he_mask_6mar2023/pdl1/W103-22_PD-L1__2752.0_1856.0_pdl1.png\n"
     ]
    }
   ],
   "source": [
    "# Old and new base paths\n",
    "old_base_path = '/home/fabian/projects/phd/ssd_data'\n",
    "new_base_path = '/home/fabian/raid5/formerly_on_ssd_data'\n",
    "\n",
    "# Function to replace the base path\n",
    "def replace_base_path(old_path, old_base, new_base):\n",
    "    if old_path.startswith(old_base):\n",
    "        return new_base + old_path[len(old_base):]\n",
    "    return old_path\n",
    "\n",
    "# Apply the function to each path in the DataFrame\n",
    "df['path_patch_pdl1'] = df['path_patch_pdl1'].apply(lambda x: replace_base_path(x, old_base_path, new_base_path))\n",
    "\n",
    "print(df['path_patch_pdl1'].iloc[0])\n",
    "\n",
    "# df.to_feather('/home/fabian/projects/phd/APEDIA/data/example_cell_type_preprocess_path_df.feather')"
   ]
  },
  {
   "cell_type": "markdown",
   "metadata": {},
   "source": [
    "### Create folder with all segmentation patches"
   ]
  },
  {
   "cell_type": "code",
   "execution_count": 6,
   "metadata": {},
   "outputs": [
    {
     "name": "stderr",
     "output_type": "stream",
     "text": [
      "100%|██████████| 508/508 [00:00<00:00, 1402.92it/s]\n"
     ]
    }
   ],
   "source": [
    "from shutil import copy2\n",
    "from tqdm.auto import tqdm\n",
    "\n",
    "path_seg_patches = Path(\"/home/fabian/projects/phd/angiosarkom_pdl1_prediction/data/cell_segmentation/21sep23_cell_segmentation_analysis_hema_patch_if_more_matches_updated_roi_df/calculation/\")\n",
    "imgs = list(path_seg_patches.glob('*.png'))\n",
    "target_folder = Path(\"/home/fabian/projects/phd/APEDIA/data/example_seg_patches/\")\n",
    "target_folder.mkdir(exist_ok=True)\n",
    "# for img in tqdm(imgs):\n",
    "#     copy2(img, target_folder)"
   ]
  }
 ],
 "metadata": {
  "kernelspec": {
   "display_name": "apedia",
   "language": "python",
   "name": "python3"
  },
  "language_info": {
   "codemirror_mode": {
    "name": "ipython",
    "version": 3
   },
   "file_extension": ".py",
   "mimetype": "text/x-python",
   "name": "python",
   "nbconvert_exporter": "python",
   "pygments_lexer": "ipython3",
   "version": "3.8.18"
  }
 },
 "nbformat": 4,
 "nbformat_minor": 2
}
