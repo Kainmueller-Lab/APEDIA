{
 "cells": [
  {
   "cell_type": "markdown",
   "metadata": {},
   "source": [
    "### Preprocessing Cell Type Data with Cellpose\n",
    "\n",
    "The `preprocess_cell_type_data` function is engineered to streamline the preprocessing of cell type data, leveraging Cellpose models for cell segmentation and incorporating additional steps such as image enhancement with deepliif and ROI extraction. This preprocessing is a foundational step in the APEDIA project, preparing high-quality data for downstream analyses or model training.\n",
    "\n",
    "#### Parameters\n",
    "- **output_dir** (*str*): The directory where processed files and outputs will be stored.\n",
    "- **path_folder_patch_imgs** (*str*): Path to the directory containing cell images (patches) to be processed.\n",
    "- **path_roi_csv** (*str*): Path to the CSV file detailing Regions of Interest (ROI) in the images.\n",
    "- **path_roi_csv_2** (*str*, optional): Path to an additional CSV file containing ROI information, for cases where ROI data is split across multiple files. Default is `None`.\n",
    "- **no_roi_infos** (*bool*, optional): If `True`, suppresses the printing of ROI information. Useful for reducing console output during processing. Default is `False`.\n",
    "- **tip_the_balance** (*float*, optional): A parameter for fine-tuning the comparison logic between original and Hema-enhanced patches, affecting which version of the patch is used for further processing. Default is `0`.\n",
    "- **replacements** (*dict* or *str*, optional): A dictionary of text replacements for ROI labels, or a path to a pickle file containing such a dictionary. This is useful for normalizing or correcting labels in the ROI data. Default is `None`.\n",
    "- **path_deepliif_hema_gan_weights** (*str*, optional): Path to the deepliif Hema GAN weights, used for image enhancement. Default is `None`, which uses the weights stored within the APEDIA repository.\n",
    "- **viz** (*bool*, optional): Enables the visualization of segmentation channels and ROI points. Visualization files will be saved in the specified output directory. Default is `False`.\n",
    "\n",
    "#### Usage\n",
    "To preprocess your cell type data, initialize the necessary parameters and call the function as shown below. Ensure that paths are correctly set to your dataset and output locations.\n",
    "\n",
    "```python\n",
    "from apedia.preprocess_cell_type_data import preprocess_cell_type_data\n",
    "\n",
    "preprocess_cell_type_data(\n",
    "    output_dir='/path/to/output/directory',\n",
    "    path_folder_patch_imgs='/path/to/patch/images',\n",
    "    path_roi_csv='/path/to/roi/csv',\n",
    "    path_roi_csv_2=None,  # Optional\n",
    "    no_roi_infos=False,\n",
    "    tip_the_balance=0,\n",
    "    replacements='/path/to/replacements.pickle',  # or directly pass a dictionary\n",
    "    path_deepliif_hema_gan_weights='/path/to/deepliif/weights',  # Optional\n",
    "    viz=True\n",
    ")\n",
    "```\n",
    "\n",
    "#### CLI\n",
    "For those preferring command line execution, preprocess_cell_type_data can be triggered via CLI as part of the APEDIA toolkit. Ensure you have the APEDIA environment activated and run:\n",
    "```bash\n",
    "apedia preprocess_cell_type_data --path_roi_csv \"/path/to/roi.csv\" --output_dir \"/path/to/output\" --path_folder_patch_imgs \"/path/to/patches\" --viz\n",
    "```"
   ]
  },
  {
   "cell_type": "markdown",
   "metadata": {},
   "source": [
    "## Import the `preprocess_cell_type_data` function"
   ]
  },
  {
   "cell_type": "code",
   "execution_count": null,
   "metadata": {},
   "outputs": [],
   "source": [
    "from pathlib import Path\n",
    "from apedia.utils.params import preprocess_cell_type_data_replacement_params\n",
    "from apedia.preprocess_cell_type_data import preprocess_cell_type_data"
   ]
  },
  {
   "cell_type": "markdown",
   "metadata": {},
   "source": [
    "## Set the parameters"
   ]
  },
  {
   "cell_type": "code",
   "execution_count": null,
   "metadata": {},
   "outputs": [],
   "source": [
    "# Set the parameters for preprocessing cell type data\n",
    "\n",
    "preprocess_cell_type_data_params = {\n",
    "    \"output_dir\": \"/path/to/your/output/directory\",\n",
    "    \"path_folder_patch_imgs\": \"/path/to/your/folder/containing/patch/images\",\n",
    "    \"path_roi_csv\": \"/path/to/your/roi/information.csv\",\n",
    "    \"path_roi_csv_2\": None,  # Optional: \"/path/to/your/additional/roi/information.csv\"\n",
    "    \"no_roi_infos\": False,\n",
    "    \"tip_the_balance\": 0.0,\n",
    "    \"replacements\": \"/path/to/your/replacements.pickle\",  # or directly assign the replacements dictionary\n",
    "    \"path_deepliif_hema_gan_weights\": None,  # Optional: \"/path/to/your/deepliif/hema/gan/weights\"\n",
    "    \"viz\": True\n",
    "}\n"
   ]
  },
  {
   "cell_type": "markdown",
   "metadata": {},
   "source": [
    "## Run the training"
   ]
  },
  {
   "cell_type": "code",
   "execution_count": null,
   "metadata": {},
   "outputs": [],
   "source": [
    "preprocess_cell_type_data_params['path_roi_csv'] = Path('/home/fabian/projects/phd/angiosarkom_pdl1_prediction') / 'data' / 'cell_segmentation_first_go_full_Batch_ROI_Export_19sep23.csv'\n",
    "preprocess_cell_type_data_params['output_dir'] = '/home/fabian/projects/phd/APEDIA/data/outputs/cell_type_preprocessing'\n",
    "preprocess_cell_type_data_params['path_folder_patch_imgs'] = Path(\"/home/fabian/projects/phd/APEDIA/data/example_seg_patches/\")\n",
    "preprocess_cell_type_data_params['replacements'] = preprocess_cell_type_data_replacement_params"
   ]
  },
  {
   "cell_type": "code",
   "execution_count": null,
   "metadata": {},
   "outputs": [],
   "source": [
    "# Preprocess cell type data\n",
    "preprocess_cell_type_data(**preprocess_cell_type_data_params)"
   ]
  }
 ],
 "metadata": {
  "kernelspec": {
   "display_name": "apedia",
   "language": "python",
   "name": "python3"
  },
  "language_info": {
   "codemirror_mode": {
    "name": "ipython",
    "version": 3
   },
   "file_extension": ".py",
   "mimetype": "text/x-python",
   "name": "python",
   "nbconvert_exporter": "python",
   "pygments_lexer": "ipython3",
   "version": "3.8.18"
  }
 },
 "nbformat": 4,
 "nbformat_minor": 2
}
