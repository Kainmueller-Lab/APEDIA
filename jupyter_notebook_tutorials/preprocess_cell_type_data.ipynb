{
 "cells": [
  {
   "cell_type": "markdown",
   "metadata": {},
   "source": [
    "### Preprocessing Cell Type Data with Cellpose\n",
    "\n",
    "The `preprocess_cell_type_data` function is engineered to streamline the preprocessing of cell type data, leveraging Cellpose models for cell segmentation and incorporating additional steps such as image enhancement with deepliif and ROI extraction. This preprocessing is a foundational step in the PEERCE project, preparing high-quality data for downstream analyses or model training.\n",
    "\n",
    "#### Parameters\n",
    "- **output_dir** (*str*): The directory where processed files and outputs will be stored.\n",
    "- **path_folder_patch_imgs** (*str*): Path to the directory containing cell images (patches) to be processed.\n",
    "- **path_roi_csv** (*str*): Path to the CSV file detailing Regions of Interest (ROI) in the images. The required table structure is fulfilled by the standard Omero ROI export CSV file.\n",
    "- **path_roi_csv_2** (*str*, optional): Path to an additional CSV file containing ROI information, for cases where ROI data is split across multiple files. Default is `None`.\n",
    "- **no_roi_infos** (*bool*, optional): If `True`, suppresses the printing of ROI information. Useful for reducing console output during processing. Default is `False`.\n",
    "- **tip_the_balance** (*float*, optional): A parameter for fine-tuning the comparison logic between original and Hema-enhanced patches, affecting which version of the patch is used for further processing. Default is `0`.\n",
    "- **replacements** (*dict* or *str*, optional): A dictionary of text replacements for ROI labels, or a path to a pickle file containing such a dictionary. This is useful for normalizing or correcting labels in the ROI data. Default is `None`.\n",
    "- **path_deepliif_hema_gan_weights** (*str*, optional): Path to the deepliif Hema GAN weights, used for image enhancement. Default is `None`, which uses the weights stored within the PEERCE repository.\n",
    "- **viz** (*bool*, optional): Enables the visualization of segmentation channels and ROI points. Visualization files will be saved in the specified output directory. Default is `False`.\n",
    "\n",
    "#### Usage\n",
    "To preprocess your cell type data, initialize the necessary parameters and call the function as shown below. Ensure that paths are correctly set to your dataset and output locations.\n",
    "\n",
    "```python\n",
    "from peerce.preprocess_cell_type_data import preprocess_cell_type_data\n",
    "\n",
    "preprocess_cell_type_data(\n",
    "    output_dir='/path/to/output/directory',\n",
    "    path_folder_patch_imgs='/path/to/patch/images',\n",
    "    path_roi_csv='/path/to/roi/csv',\n",
    "    path_roi_csv_2=None,  # Optional\n",
    "    no_roi_infos=False,\n",
    "    tip_the_balance=0,\n",
    "    replacements='/path/to/replacements.pickle',  # or directly pass a dictionary\n",
    "    path_deepliif_hema_gan_weights='/path/to/deepliif/weights',  # Optional\n",
    "    viz=True\n",
    ")\n",
    "```\n",
    "\n",
    "#### CLI\n",
    "For those preferring command line execution, preprocess_cell_type_data can be triggered via CLI as part of the PEERCE toolkit. Ensure you have the PEERCE environment activated and run:\n",
    "```bash\n",
    "peerce preprocess_cell_type_data --path_roi_csv \"/path/to/roi.csv\" --output_dir \"/path/to/output\" --path_folder_patch_imgs \"/path/to/patches\" --viz\n",
    "```\n",
    "\n",
    "\n",
    "#### Output Structure\n",
    "The function generates the following output directories within **{output_dir}/cell_type_preprocessing_{current_date}** for each preprocessed image specified in the ROI CSV file:\n",
    "\n",
    "- **calculation**: This directory includes the processed data and intermediate files that are used for calculations and further processing. Examples of contained files are:\n",
    "  - `*_results_df.pkl` - Pickle files containing dataframe results.\n",
    "  - `*_pdl1.npy` - Numpy files with segmentation data.\n",
    "  - `*_pdl1_multi.npy` - Numpy files with segmentation data.\n",
    "\n",
    "- **viz** (created if `viz=True`): Contains visual outputs such as segmentations and ROI overlays. Examples of contained files are:\n",
    "  - `*_pdl1.png` - PNG files of the PD-L1 stained images.\n",
    "  - `*_pdl1_segmentation.png` - PNG files showing the segmentation results.\n",
    "\n",
    "The `viz` folder is only created if visualization is enabled in the function (`viz=True`).\n",
    "\n",
    "The DataFrame saved as `*_hema_patch_if_more_matches_updated_roi_df.feather` within the the specified **output_dir** can subsequently be utilized for the `train_cell_type_detector` training.\n"
   ]
  },
  {
   "cell_type": "markdown",
   "metadata": {},
   "source": [
    "## Input Data Example\n",
    "\n",
    "PEERCE expects the ROI CSV file to contain the following columns:\n",
    "\n",
    "<img src=\"./imgs/roi_csv_example.png\" alt=\"ROI CSV Example\" width=\"800\"/>\n",
    "\n",
    "#### Here are a few example entries for further clarification:\n",
    "\n",
    "Three examples of column `image_name` - this is the image which PEERCE search for within the `path_folder_patch_imgs` directory:  \n",
    "- W103-22_PD-L1__2336.0_2080.0_pdl1.png  \n",
    "- W103-22_PD-L1__2752.0_1696.0_pdl1.png  \n",
    "- W103-22_PD-L1__3616.0_1664.0_pdl1.png  \n",
    "\n",
    "Three examples of column `roi_id` - each cell type ROI has a unique ID:  \n",
    "- 33701  \n",
    "- 33717  \n",
    "- 33731  \n",
    "\n",
    "Three examples of column `text` - here, the cell type is described. A replacement dictionary can be used to unify these values:  \n",
    "- TZ neg.  \n",
    "- TZ neg.  \n",
    "- TZ neg.  \n",
    "\n",
    "Three examples of column `Points` - this column contains the polygon points for the ROI, formatted as x,y pairs separated by spaces:  \n",
    "- 295.38,298.96 294.49,301.65 298.96,293.59 292.70,301.65 296.28,303.44 299.86,298.96  \n",
    "- 260.48,173.66 264.95,162.92 257.79,170.08 264.95,165.60  \n",
    "- 197.82,368.77 196.03,370.56 197.82,360.72 194.24,369.67 199.61,365.19  \n",
    "\n",
    "**Note**: The standard Omero ROI export CSV file fulfills these column requirements. This means that users exporting ROIs from Omero can directly use those exports with PEERCE without needing to modify the structure of the CSV file."
   ]
  },
  {
   "cell_type": "markdown",
   "metadata": {},
   "source": [
    "## Import the `preprocess_cell_type_data` function"
   ]
  },
  {
   "cell_type": "code",
   "execution_count": null,
   "metadata": {},
   "outputs": [],
   "source": [
    "from pathlib import Path\n",
    "from peerce.utils.params import preprocess_cell_type_data_replacement_params\n",
    "from peerce.preprocess_cell_type_data import preprocess_cell_type_data"
   ]
  },
  {
   "cell_type": "markdown",
   "metadata": {},
   "source": [
    "## Set the parameters"
   ]
  },
  {
   "cell_type": "code",
   "execution_count": null,
   "metadata": {},
   "outputs": [],
   "source": [
    "# Set the parameters for preprocessing cell type data\n",
    "\n",
    "preprocess_cell_type_data_params = {\n",
    "    \"output_dir\": \"/path/to/your/output/directory\",\n",
    "    \"path_folder_patch_imgs\": \"/path/to/your/folder/containing/patch/images\",\n",
    "    \"path_roi_csv\": \"/path/to/your/roi/information.csv\",\n",
    "    \"path_roi_csv_2\": None,  # Optional: \"/path/to/your/additional/roi/information.csv\"\n",
    "    \"no_roi_infos\": False,\n",
    "    \"tip_the_balance\": 0.0,\n",
    "    \"replacements\": \"/path/to/your/replacements.pickle\",  # or directly assign the replacements dictionary\n",
    "    \"path_deepliif_hema_gan_weights\": None,  # Optional: \"/path/to/your/deepliif/hema/gan/weights\"\n",
    "    \"viz\": True\n",
    "}\n"
   ]
  },
  {
   "cell_type": "markdown",
   "metadata": {},
   "source": [
    "## Run the training"
   ]
  },
  {
   "cell_type": "code",
   "execution_count": 1,
   "metadata": {},
   "outputs": [],
   "source": [
    "preprocess_cell_type_data_params['path_roi_csv'] = Path(\"/home/fabian/projects/phd/PEERCE/data/example_roi_table.csv\")\n",
    "preprocess_cell_type_data_params['output_dir'] = '/home/fabian/projects/phd/PEERCE/data/outputs/cell_type_preprocessing'\n",
    "preprocess_cell_type_data_params['path_folder_patch_imgs'] = Path(\"/home/fabian/projects/phd/PEERCE/data/example_seg_patches/\")\n",
    "preprocess_cell_type_data_params['replacements'] = preprocess_cell_type_data_replacement_params# "
   ]
  },
  {
   "cell_type": "code",
   "execution_count": null,
   "metadata": {},
   "outputs": [],
   "source": [
    "# Preprocess cell type data\n",
    "preprocess_cell_type_data(**preprocess_cell_type_data_params)"
   ]
  }
 ],
 "metadata": {
  "kernelspec": {
   "display_name": "apedia",
   "language": "python",
   "name": "python3"
  },
  "language_info": {
   "codemirror_mode": {
    "name": "ipython",
    "version": 3
   },
   "file_extension": ".py",
   "mimetype": "text/x-python",
   "name": "python",
   "nbconvert_exporter": "python",
   "pygments_lexer": "ipython3",
   "version": "3.8.18"
  }
 },
 "nbformat": 4,
 "nbformat_minor": 2
}
