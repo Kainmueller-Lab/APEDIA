{
 "cells": [
  {
   "cell_type": "markdown",
   "metadata": {},
   "source": [
    "### Training the Cell Type Detector\n",
    "\n",
    "The `train_cell_type_detector` function is designed to facilitate the training of a machine learning model capable of differentiating between PD-L1 positive, PD-L1 negative and other cells within patches of Whole Slide Images (WSIs), as part of the PEERCE project.\n",
    "\n",
    "#### Parameters\n",
    "- **data_df_path** (*str*): Path to the DataFrame containing dataset information. The DataFrame should include columns for patch paths, mask images, and instance segmentation images. It must also contain a `cv_split` column to specify the cross-validation split for data points, assigning each row an integer (e.g., 0 to 4) to denote its split group.\n",
    "- **output_dir** (*str*): Directory path where training outputs, such as trained model weights and logs, will be stored.\n",
    "- **cv_split** (*int*, default: 0): Index of the cross-validation split used for segregating training and validation datasets.\n",
    "- **mask_col** (*str*, default: 'path_seg_one_match'): Column name in the DataFrame containing paths to mask images.\n",
    "- **patch_col** (*str*, default: 'path_patch_png'): Column name in the DataFrame containing paths to patch images.\n",
    "- **instance_seg_col** (*str*, default: 'path_exact_one_match'): Column name for paths to instance segmentation images.\n",
    "- **bs** (*int*, default: 8): Batch size for training.\n",
    "- **epochs** (*int*, default: 25): Number of training epochs.\n",
    "- **lr** (*float*, default: 0.001): Learning rate for the optimizer during training.\n",
    "- **aug_mult** (*float*, default: 1.0): Multiplier to adjust the intensity and diversity of data augmentation applied during training.\n",
    "- **encoder_name** (*str*, default: 'timm-efficientnet-b5'): Name of the encoder used in the U-Net architecture.\n",
    "- **num_classes** (*int*, default: 4): Number of distinct cell types (classes) the model should learn to identify.\n",
    "- **device** (*str*, default: 'cuda'): The computing device ('cuda' or 'cpu') on which training will be performed.\n",
    "- **do_elastic** (*bool*, default: False): Whether to include elastic transformations as part of data augmentation.\n",
    "- **do_not_analyze** (*bool*, default: False): If set to True, skips the analysis phase after training.\n",
    "- **label_smoothing** (*float*, default: 0.0): Degree of label smoothing applied, aiding in regularization.\n",
    "- **weight_decay** (*float*, default: 0.01): Weight decay factor for the optimizer to counteract overfitting.\n",
    "- **disable_tqdm** (*bool*, default: False): If True, disables progress bars during training.\n",
    "- **class_weights** (*list of float*): Weights for each class to address class imbalance during loss calculation.\n",
    "\n",
    "#### Usage\n",
    "To train the cell type detector, define the parameters in the `train_cell_type_detection_params` dictionary as shown above, ensuring that mandatory parameters like `data_df_path` and `output_dir` are set to valid paths before initiating the training.\n",
    "\n",
    "#### CLI\n",
    "PEERCE train cell type detector can also be invoked via the command line, for example:\n",
    "```\n",
    "peerce train_cell_type_detector --data_df_path \"/path/to/your/dataframe.feather\" --output_dir \"/path/to/your/output/directory\" --epochs 25 --cv_split 0 --mask_col \"path_seg_one_match\" --patch_col \"path_patch_png\" --instance_seg_col \"path_exact_one_match\"\n",
    "```\n",
    "\n",
    "#### Output Structure\n",
    "The `train_cell_type_detector` function organizes the output into a main folder within the specified output path, named after the function and appended with the current date (e.g., `cell_type_detection_training_output_02apr24`). Within this main folder, the output files and directories include:\n",
    "\n",
    "- **analysis_output/cv_split_X**: If analysis is requested, this directory contains the visualizations of the segmentation results for the validation set using the final trained model. The `X` in `cv_split_X` denotes the index of the cross-validation split being analyzed.\n",
    "- **loss_acc_dict.pkl**: A pickle file that stores the training loss and accuracy for every epoch, allowing for a detailed evaluation of the model's training progress over time.\n",
    "- **model_DATE_ModelName_cv_splitX_epochY.pth**: The saved model weights after training, with `DATE` indicating the date of the training, `ModelName` describing the model architecture, `cv_splitX` specifying the cross-validation split used, and `epochY` indicating the number of epochs completed.\n"
   ]
  },
  {
   "cell_type": "markdown",
   "metadata": {},
   "source": [
    "# Data Example\n",
    "Given the default column names, the provided dataframe (DF) needs to have all the columns as seen in the example DF:\n",
    "\n",
    "\n",
    "<img src=\"./imgs/segmentation_df_example.png\" alt=\"Segmentation DataFrame Example\" width=\"1000\"/>\n",
    "\n",
    "\n",
    "#### Here are a few example paths for further clarification:\n",
    "\n",
    "Three examples of `column path_seg_one_match` - path to instance segmentation masks where the annotation matches at least one instance in the patch:  \n",
    "- /home/fabian/projects/phd/PEERCE/data/outputs/cell_type_preprocessing_24mar24/calculation/W103-22_PD-L1__2336.0_2080.0_pdl1.npy  \n",
    "- /home/fabian/projects/phd/PEERCE/data/outputs/cell_type_preprocessing_24mar24/calculation/W139-22_PD-L1__736.0_1088.0_pdl1.npy  \n",
    "- /home/fabian/projects/phd/PEERCE/data/outputs/cell_type_preprocessing_24mar24/calculation/W40-22_PD-L1__320.0_928.0_pdl1.npy  \n",
    "\n",
    "\n",
    "Three examples of `column path_patch_png` - path to the patch images:  \n",
    "- /home/fabian/projects/phd/PEERCE/data/outputs/cell_type_preprocessing_24mar24/calculation/W103-22_PD-L1__2336.0_2080.0_pdl1.png  \n",
    "- /home/fabian/projects/phd/PEERCE/data/outputs/cell_type_preprocessing_24mar24/calculation/W139-22_PD-L1__736.0_1088.0_pdl1.png  \n",
    "- /home/fabian/projects/phd/PEERCE/data/outputs/cell_type_preprocessing_24mar24/calculation/W40-22_PD-L1__320.0_928.0_pdl1.png  \n",
    "\n",
    "\n",
    "Three examples of `column path_exact_one_match` - path to instance segmentation masks where the annotation matches exact one instance in the patch:  \n",
    "- /home/fabian/projects/phd/PEERCE/data/outputs/cell_type_preprocessing_24mar24/calculation/W103-22_PD-L1__2336.0_2080.0_pdl1_segmentation_channels.npy  \n",
    "- /home/fabian/projects/phd/PEERCE/data/outputs/cell_type_preprocessing_24mar24/calculation/W139-22_PD-L1__736.0_1088.0_pdl1_segmentation_channels.npy  \n",
    "- /home/fabian/projects/phd/PEERCE/data/outputs/cell_type_preprocessing_24mar24/calculation/W40-22_PD-L1__320.0_928.0_pdl1_segmentation_channels.npy  \n",
    "\n",
    "\n",
    "Three examples of column cv_split:  \n",
    "- 0  \n",
    "- 4  \n",
    "- 2  "
   ]
  },
  {
   "cell_type": "markdown",
   "metadata": {},
   "source": [
    "## Import the `train_cell_type_detector` function"
   ]
  },
  {
   "cell_type": "code",
   "execution_count": null,
   "metadata": {},
   "outputs": [],
   "source": [
    "from peerce.train_cell_type_detector import train_cell_type_detector"
   ]
  },
  {
   "cell_type": "markdown",
   "metadata": {},
   "source": [
    "## Set the parameters"
   ]
  },
  {
   "cell_type": "code",
   "execution_count": null,
   "metadata": {},
   "outputs": [],
   "source": [
    "# Train the cell type detector\n",
    "# Set the parameters\n",
    "\n",
    "train_cell_type_detection_params = {\n",
    "    \"df_path\": \"/path/to/your/dataset/example_patch_df.feather\",\n",
    "    \"output_dir\": \"/path/to/your/output/directory\",\n",
    "    # The other parameters can be adjusted as needed\n",
    "    \"cv_split\": 0,\n",
    "    \"mask_col\": 'path_seg_one_match',\n",
    "    \"patch_col\": 'path_patch_png',\n",
    "    \"instance_seg_col\": 'path_exact_one_match',\n",
    "    \"bs\": 8,\n",
    "    \"epochs\": 25,\n",
    "    \"lr\": 0.001,\n",
    "    \"aug_mult\": 1.0,\n",
    "    \"encoder_name\": 'timm-efficientnet-b5',\n",
    "    \"num_input_channels\": 3,\n",
    "    \"num_classes\": 4,\n",
    "    \"num_workers\": 4,\n",
    "    \"device\": 'cuda',\n",
    "    \"do_elastic\": False,\n",
    "    \"do_not_analyze\": False,\n",
    "    \"label_smoothing\": 0.0,\n",
    "    \"weight_decay\": 0.01,\n",
    "    \"disable_tqdm\": False,\n",
    "    \"class_weights\": [0.0001, 1, 1, 1]\n",
    "}"
   ]
  },
  {
   "cell_type": "markdown",
   "metadata": {},
   "source": [
    "## Run the training"
   ]
  },
  {
   "cell_type": "code",
   "execution_count": null,
   "metadata": {},
   "outputs": [],
   "source": [
    "# train_cell_type_detection_params['df_path'] = \"/home/fabian/projects/phd/PEERCE/data/example_df_segmentation.feather\"\n",
    "# train_cell_type_detection_params['output_dir'] = '/home/fabian/projects/phd/PEERCE/data/outputs'\n",
    "# train_cell_type_detection_params['epochs'] = 2"
   ]
  },
  {
   "cell_type": "code",
   "execution_count": null,
   "metadata": {},
   "outputs": [],
   "source": [
    "train_cell_type_detector(train_cell_type_detection_params)"
   ]
  }
 ],
 "metadata": {
  "kernelspec": {
   "display_name": "peerce",
   "language": "python",
   "name": "python3"
  },
  "language_info": {
   "codemirror_mode": {
    "name": "ipython",
    "version": 3
   },
   "file_extension": ".py",
   "mimetype": "text/x-python",
   "name": "python",
   "nbconvert_exporter": "python",
   "pygments_lexer": "ipython3",
   "version": "3.8.18"
  }
 },
 "nbformat": 4,
 "nbformat_minor": 2
}
