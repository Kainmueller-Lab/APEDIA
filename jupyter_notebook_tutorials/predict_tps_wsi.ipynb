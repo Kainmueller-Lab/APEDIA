{
 "cells": [
  {
   "cell_type": "markdown",
   "metadata": {},
   "source": [
    "### Predicting the Tumor Proportion Score (TPS)\n",
    "\n",
    "The `predict_tps_wsi` function is a core component of the APEDIA project, designed to predict the Tumor Proportion Score (TPS) from Whole Slide Images (WSIs) of angiosarcoma. Leveraging trained models for tumor patch detection and cell type classification, this function computes the TPS, indicating the percentage of tumor cells expressing PD-L1.\n",
    "\n",
    "#### Parameters\n",
    "- **ometiff_path** (*str*): The file path to the OME-TIFF format WSI file. The function expects this path to point to a valid image file from which to predict the TPS.\n",
    "- **output_folder** (*str*): The directory path where the predictions and any associated output files will be stored. This includes predictions for tumor patches, cell type classifications, and the final TPS result.\n",
    "- **tp_pred_model** (*model object*, optional): The tumor patch prediction model. If `None`, the project's default model will be used.\n",
    "- **seg_model** (*model object*, optional): The segmentation model used for classifying cell types within tumor patches. If `None`, the project's default model will be used.\n",
    "- **cellpose_model** (*model object*, optional): The Cellpose model used for cell delineation. If `None`, the default Cellpose model for nuclei segmentation will be used.\n",
    "\n",
    "These optional parameters allow the use of custom models, which can be particularly useful for extending the functionality of `predict_tps` to other types of rare cancers or to utilize newly developed models that may offer improved performance.\n",
    "\n",
    "#### Usage\n",
    "To perform TPS prediction, initialize the required models (tumor patch detection model, segmentation model, and optionally the Cellpose model for cell delineation) and specify the path to the WSI and the output directory. Here's an example of how to set up and call `predict_tps`:\n",
    "\n",
    "```python\n",
    "from apedia.predict_tps_wsi import predict_tps_wsi\n",
    "\n",
    "# Path to the OME-TIFF file for TPS prediction\n",
    "ometiff_path = \"/path/to/your/file.ome.tiff\"\n",
    "\n",
    "# Output folder where predictions will be stored\n",
    "output_folder = \"/path/to/output/folder\"\n",
    "\n",
    "predict_tps(ometiff_path, output_folder)\n",
    "```\n",
    "\n",
    "Custom models can be instantiated and given to the predict_tps function, or they can be specified in the utils/params.py file.\n",
    "If custom model objects are not specified (None), predict_tps will attempt to load default models.\n",
    "\n",
    "#### Usage\n",
    "To train the tumor patch detector, define the parameters in `train_tumor_patch_detector_params` dictionary as shown below, and then call the `train_tumor_patch_detector` function with this dictionary. Ensure that the mandatory parameters `data_df_path` and `output_dir` are set to valid paths before running the training.\n",
    "\n",
    "#### CLI\n",
    "The predict_tps functionality can also be executed via the command line interface (CLI) of the APEDIA project. For instance:\n",
    "```\n",
    "apedia predict_tps --ometiff_path \"/home/user/APEDIA/data/example.ome.tiff\" --output_folder \"/home/user/APEDIA/data/outputs\"\n",
    "```\n",
    "\n",
    "\n",
    "#### Output Structure\n",
    "The `predict_tps_wsi` function organizes its output into a hierarchical directory structure, with a main folder named after the input OME-TIFF file and the date of processing. Inside this main folder, the outputs are organized as follows:\n",
    "\n",
    "- **{ome_tiff_name}_date**: The root folder for all outputs created by the prediction process.\n",
    "  \n",
    "- **cell_type_prediction_viz**: A directory within the root folder that contains visualizations of cell type predictions for each analyzed patch. Example visualization files:\n",
    "  - `example_1664_1632_cell_type_prediction.jpg` - A JPEG file that visualizes the cell type prediction for a particular patch.\n",
    "\n",
    "- **tumor_patches**: A subdirectory within the root folder that stores all identified tumor patch images extracted from the OME-TIFF WSI, saved as PNG files. Example tumor patch files:\n",
    "  - `example_2336_1728.png` - A PNG file representing an individual tumor patch.\n",
    "\n",
    "Within the root folder, you will also find `.feather` files that provide structured data output from the prediction process, which include:\n",
    "  - `example_cell_type_prediction_detailed_df.feather` - Contains detailed prediction data for cell types within each patch.\n",
    "  - `example_cell_type_prediction_df.feather` - Provides a summary of the cell type predictions.\n",
    "  - `example_tumor_patch_prediction_df.feather` - Stores prediction data for tumor patches.\n"
   ]
  },
  {
   "cell_type": "markdown",
   "metadata": {},
   "source": [
    "## Import the `predict_tps` function"
   ]
  },
  {
   "cell_type": "code",
   "execution_count": null,
   "metadata": {},
   "outputs": [],
   "source": [
    "from apedia.predict_tps_wsi import predict_tps_wsi"
   ]
  },
  {
   "cell_type": "markdown",
   "metadata": {},
   "source": [
    "## Set the parameters"
   ]
  },
  {
   "cell_type": "code",
   "execution_count": null,
   "metadata": {},
   "outputs": [],
   "source": [
    "# Predict the tumor proportion score\n",
    "# Set the parameters\n",
    "\n",
    "predict_tps_params = {\n",
    "    \"ometiff_path\": \"/path/to/your/file.ome.tiff\",\n",
    "    \"output_folder\": \"/path/to/your/output/folder/\",\n",
    "    \"tp_pred_model\": None, # A custom model object can be passed here instead of None, which will use the default model\n",
    "    \"seg_model\": None, # A custom model object can be passed here instead of None, which will use the default model\n",
    "    \"cellpose_model\": None, # A custom model object can be passed here instead of None, which will use the default model\n",
    "}"
   ]
  },
  {
   "cell_type": "markdown",
   "metadata": {},
   "source": [
    "## Run the training"
   ]
  },
  {
   "cell_type": "code",
   "execution_count": null,
   "metadata": {},
   "outputs": [],
   "source": [
    "# Further refine the parameters as needed\n",
    "predict_tps_params['ometiff_path'] = \"/home/fabian/projects/phd/APEDIA/data/example.ome.tiff\"\n",
    "predict_tps_params['output_folder'] = \"/home/fabian/projects/phd/APEDIA/data/outputs/wsi_tps_predictions/\"\n",
    "\n",
    "predict_tps_wsi(**predict_tps_params)"
   ]
  }
 ],
 "metadata": {
  "kernelspec": {
   "display_name": "apedia",
   "language": "python",
   "name": "python3"
  },
  "language_info": {
   "codemirror_mode": {
    "name": "ipython",
    "version": 3
   },
   "file_extension": ".py",
   "mimetype": "text/x-python",
   "name": "python",
   "nbconvert_exporter": "python",
   "pygments_lexer": "ipython3",
   "version": "3.8.18"
  }
 },
 "nbformat": 4,
 "nbformat_minor": 2
}
